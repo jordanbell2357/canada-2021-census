{
 "cells": [
  {
   "cell_type": "code",
   "execution_count": 1,
   "metadata": {},
   "outputs": [],
   "source": [
    "import pandas as pd\n",
    "import geopandas as gpd\n",
    "\n",
    "# Load the shapefile into a GeoDataFrame\n",
    "shapefile_path = \"../datafiles/lfsa000b21a_e/lfsa000b21a_e.shp\"\n",
    "shapefile_gdf = gpd.read_file(shapefile_path)\n",
    "\n",
    "# Load the first CSV (fsa_K_means_20_clusters) into a DataFrame\n",
    "csv_path = \"fsa_principal_indicators_and_clusters.csv\"\n",
    "csv_df = pd.read_csv(csv_path)"
   ]
  },
  {
   "cell_type": "code",
   "execution_count": 2,
   "metadata": {},
   "outputs": [],
   "source": [
    "# Merge the GeoDataFrame with the first CSV based on the CFSAUID and geo_name columns\n",
    "merged_gdf = shapefile_gdf.merge(csv_df, left_on='CFSAUID', right_on='geo_name')"
   ]
  },
  {
   "cell_type": "code",
   "execution_count": 3,
   "metadata": {},
   "outputs": [
    {
     "name": "stdout",
     "output_type": "stream",
     "text": [
      "Index(['CFSAUID', 'DGUID', 'PRUID', 'PRNAME', 'LANDAREA_x', 'geometry',\n",
      "       'geo_name', 'Total population', 'Average age', 'Median age',\n",
      "       'Median after-tax income', 'Average after-tax income',\n",
      "       'Employment income (%)', 'Gini index', 'External migrants 1 year ago',\n",
      "       'External migrants 5 years ago', 'LANDAREA_y', 'cluster'],\n",
      "      dtype='object')\n"
     ]
    }
   ],
   "source": [
    "print(merged_gdf.columns)"
   ]
  },
  {
   "cell_type": "code",
   "execution_count": 4,
   "metadata": {},
   "outputs": [
    {
     "data": {
      "text/html": [
       "<div>\n",
       "<style scoped>\n",
       "    .dataframe tbody tr th:only-of-type {\n",
       "        vertical-align: middle;\n",
       "    }\n",
       "\n",
       "    .dataframe tbody tr th {\n",
       "        vertical-align: top;\n",
       "    }\n",
       "\n",
       "    .dataframe thead th {\n",
       "        text-align: right;\n",
       "    }\n",
       "</style>\n",
       "<table border=\"1\" class=\"dataframe\">\n",
       "  <thead>\n",
       "    <tr style=\"text-align: right;\">\n",
       "      <th></th>\n",
       "      <th>CFSAUID</th>\n",
       "      <th>DGUID</th>\n",
       "      <th>PRUID</th>\n",
       "      <th>PRNAME</th>\n",
       "      <th>LANDAREA_x</th>\n",
       "      <th>geometry</th>\n",
       "      <th>geo_name</th>\n",
       "      <th>Total population</th>\n",
       "      <th>Average age</th>\n",
       "      <th>Median age</th>\n",
       "      <th>Median after-tax income</th>\n",
       "      <th>Average after-tax income</th>\n",
       "      <th>Employment income (%)</th>\n",
       "      <th>Gini index</th>\n",
       "      <th>External migrants 1 year ago</th>\n",
       "      <th>External migrants 5 years ago</th>\n",
       "      <th>LANDAREA_y</th>\n",
       "      <th>cluster</th>\n",
       "    </tr>\n",
       "  </thead>\n",
       "  <tbody>\n",
       "    <tr>\n",
       "      <th>0</th>\n",
       "      <td>A0A</td>\n",
       "      <td>2021A0011A0A</td>\n",
       "      <td>10</td>\n",
       "      <td>Newfoundland and Labrador / Terre-Neuve-et-Lab...</td>\n",
       "      <td>4136.6221</td>\n",
       "      <td>MULTIPOLYGON (((8986398.603 2027249.146, 89863...</td>\n",
       "      <td>A0A</td>\n",
       "      <td>44930</td>\n",
       "      <td>47.2</td>\n",
       "      <td>51.6</td>\n",
       "      <td>29800</td>\n",
       "      <td>36480</td>\n",
       "      <td>64.4</td>\n",
       "      <td>0.3</td>\n",
       "      <td>35</td>\n",
       "      <td>55</td>\n",
       "      <td>4136.6221</td>\n",
       "      <td>10</td>\n",
       "    </tr>\n",
       "    <tr>\n",
       "      <th>1</th>\n",
       "      <td>A0B</td>\n",
       "      <td>2021A0011A0B</td>\n",
       "      <td>10</td>\n",
       "      <td>Newfoundland and Labrador / Terre-Neuve-et-Lab...</td>\n",
       "      <td>4152.6284</td>\n",
       "      <td>MULTIPOLYGON (((8942820.023 2019517.649, 89428...</td>\n",
       "      <td>A0B</td>\n",
       "      <td>19285</td>\n",
       "      <td>51.6</td>\n",
       "      <td>57.2</td>\n",
       "      <td>28600</td>\n",
       "      <td>35160</td>\n",
       "      <td>60.3</td>\n",
       "      <td>0.3</td>\n",
       "      <td>0</td>\n",
       "      <td>50</td>\n",
       "      <td>4152.6284</td>\n",
       "      <td>10</td>\n",
       "    </tr>\n",
       "    <tr>\n",
       "      <th>2</th>\n",
       "      <td>A0C</td>\n",
       "      <td>2021A0011A0C</td>\n",
       "      <td>10</td>\n",
       "      <td>Newfoundland and Labrador / Terre-Neuve-et-Lab...</td>\n",
       "      <td>2733.4722</td>\n",
       "      <td>MULTIPOLYGON (((8881604.920 2158976.151, 88816...</td>\n",
       "      <td>A0C</td>\n",
       "      <td>11970</td>\n",
       "      <td>51.2</td>\n",
       "      <td>56.4</td>\n",
       "      <td>26600</td>\n",
       "      <td>31760</td>\n",
       "      <td>57.6</td>\n",
       "      <td>0.3</td>\n",
       "      <td>10</td>\n",
       "      <td>50</td>\n",
       "      <td>2733.4722</td>\n",
       "      <td>10</td>\n",
       "    </tr>\n",
       "    <tr>\n",
       "      <th>3</th>\n",
       "      <td>A0E</td>\n",
       "      <td>2021A0011A0E</td>\n",
       "      <td>10</td>\n",
       "      <td>Newfoundland and Labrador / Terre-Neuve-et-Lab...</td>\n",
       "      <td>6365.8235</td>\n",
       "      <td>MULTIPOLYGON (((8824262.857 1952006.689, 88242...</td>\n",
       "      <td>A0E</td>\n",
       "      <td>21210</td>\n",
       "      <td>49.6</td>\n",
       "      <td>54.8</td>\n",
       "      <td>27400</td>\n",
       "      <td>34640</td>\n",
       "      <td>63.0</td>\n",
       "      <td>0.3</td>\n",
       "      <td>0</td>\n",
       "      <td>25</td>\n",
       "      <td>6365.8235</td>\n",
       "      <td>10</td>\n",
       "    </tr>\n",
       "    <tr>\n",
       "      <th>4</th>\n",
       "      <td>A0G</td>\n",
       "      <td>2021A0011A0G</td>\n",
       "      <td>10</td>\n",
       "      <td>Newfoundland and Labrador / Terre-Neuve-et-Lab...</td>\n",
       "      <td>15499.6047</td>\n",
       "      <td>MULTIPOLYGON (((8847567.966 2181504.514, 88475...</td>\n",
       "      <td>A0G</td>\n",
       "      <td>33315</td>\n",
       "      <td>50.7</td>\n",
       "      <td>56.0</td>\n",
       "      <td>26400</td>\n",
       "      <td>32040</td>\n",
       "      <td>55.9</td>\n",
       "      <td>0.3</td>\n",
       "      <td>15</td>\n",
       "      <td>65</td>\n",
       "      <td>15499.6047</td>\n",
       "      <td>10</td>\n",
       "    </tr>\n",
       "  </tbody>\n",
       "</table>\n",
       "</div>"
      ],
      "text/plain": [
       "  CFSAUID         DGUID PRUID  \\\n",
       "0     A0A  2021A0011A0A    10   \n",
       "1     A0B  2021A0011A0B    10   \n",
       "2     A0C  2021A0011A0C    10   \n",
       "3     A0E  2021A0011A0E    10   \n",
       "4     A0G  2021A0011A0G    10   \n",
       "\n",
       "                                              PRNAME  LANDAREA_x  \\\n",
       "0  Newfoundland and Labrador / Terre-Neuve-et-Lab...   4136.6221   \n",
       "1  Newfoundland and Labrador / Terre-Neuve-et-Lab...   4152.6284   \n",
       "2  Newfoundland and Labrador / Terre-Neuve-et-Lab...   2733.4722   \n",
       "3  Newfoundland and Labrador / Terre-Neuve-et-Lab...   6365.8235   \n",
       "4  Newfoundland and Labrador / Terre-Neuve-et-Lab...  15499.6047   \n",
       "\n",
       "                                            geometry geo_name  \\\n",
       "0  MULTIPOLYGON (((8986398.603 2027249.146, 89863...      A0A   \n",
       "1  MULTIPOLYGON (((8942820.023 2019517.649, 89428...      A0B   \n",
       "2  MULTIPOLYGON (((8881604.920 2158976.151, 88816...      A0C   \n",
       "3  MULTIPOLYGON (((8824262.857 1952006.689, 88242...      A0E   \n",
       "4  MULTIPOLYGON (((8847567.966 2181504.514, 88475...      A0G   \n",
       "\n",
       "   Total population  Average age  Median age  Median after-tax income  \\\n",
       "0             44930         47.2        51.6                    29800   \n",
       "1             19285         51.6        57.2                    28600   \n",
       "2             11970         51.2        56.4                    26600   \n",
       "3             21210         49.6        54.8                    27400   \n",
       "4             33315         50.7        56.0                    26400   \n",
       "\n",
       "   Average after-tax income  Employment income (%)  Gini index  \\\n",
       "0                     36480                   64.4         0.3   \n",
       "1                     35160                   60.3         0.3   \n",
       "2                     31760                   57.6         0.3   \n",
       "3                     34640                   63.0         0.3   \n",
       "4                     32040                   55.9         0.3   \n",
       "\n",
       "   External migrants 1 year ago  External migrants 5 years ago  LANDAREA_y  \\\n",
       "0                            35                             55   4136.6221   \n",
       "1                             0                             50   4152.6284   \n",
       "2                            10                             50   2733.4722   \n",
       "3                             0                             25   6365.8235   \n",
       "4                            15                             65  15499.6047   \n",
       "\n",
       "   cluster  \n",
       "0       10  \n",
       "1       10  \n",
       "2       10  \n",
       "3       10  \n",
       "4       10  "
      ]
     },
     "metadata": {},
     "output_type": "display_data"
    }
   ],
   "source": [
    "display(merged_gdf.head())"
   ]
  },
  {
   "cell_type": "code",
   "execution_count": 5,
   "metadata": {},
   "outputs": [],
   "source": [
    "merged_gdf.drop(['CFSAUID', 'DGUID', 'PRUID', 'PRNAME', 'LANDAREA_y'], axis=1, inplace=True)"
   ]
  },
  {
   "cell_type": "code",
   "execution_count": 6,
   "metadata": {},
   "outputs": [
    {
     "name": "stdout",
     "output_type": "stream",
     "text": [
      "Index(['LANDAREA_x', 'geometry', 'geo_name', 'Total population', 'Average age',\n",
      "       'Median age', 'Median after-tax income', 'Average after-tax income',\n",
      "       'Employment income (%)', 'Gini index', 'External migrants 1 year ago',\n",
      "       'External migrants 5 years ago', 'cluster'],\n",
      "      dtype='object')\n"
     ]
    }
   ],
   "source": [
    "print(merged_gdf.columns)"
   ]
  },
  {
   "cell_type": "code",
   "execution_count": 7,
   "metadata": {},
   "outputs": [],
   "source": [
    "merged_gdf = merged_gdf.rename(columns={\n",
    "    'geo_name': 'FSA',\n",
    "    'LANDAREA_x': 'LANDAREA'\n",
    "})"
   ]
  },
  {
   "cell_type": "code",
   "execution_count": 8,
   "metadata": {},
   "outputs": [
    {
     "name": "stdout",
     "output_type": "stream",
     "text": [
      "Index(['LANDAREA', 'geometry', 'FSA', 'Total population', 'Average age',\n",
      "       'Median age', 'Median after-tax income', 'Average after-tax income',\n",
      "       'Employment income (%)', 'Gini index', 'External migrants 1 year ago',\n",
      "       'External migrants 5 years ago', 'cluster'],\n",
      "      dtype='object')\n"
     ]
    }
   ],
   "source": [
    "print(merged_gdf.columns)"
   ]
  },
  {
   "cell_type": "code",
   "execution_count": 9,
   "metadata": {},
   "outputs": [
    {
     "name": "stderr",
     "output_type": "stream",
     "text": [
      "C:\\Users\\jorda\\AppData\\Local\\Temp\\ipykernel_5240\\388060944.py:3: UserWarning: Column names longer than 10 characters will be truncated when saved to ESRI Shapefile.\n",
      "  merged_gdf.to_file(output_path)\n",
      "c:\\Users\\jorda\\anaconda3\\envs\\xarray\\lib\\site-packages\\pyogrio\\raw.py:456: RuntimeWarning: Normalized/laundered field name: 'Total population' to 'Total popu'\n",
      "  ogr_write(\n",
      "c:\\Users\\jorda\\anaconda3\\envs\\xarray\\lib\\site-packages\\pyogrio\\raw.py:456: RuntimeWarning: Normalized/laundered field name: 'Average age' to 'Average ag'\n",
      "  ogr_write(\n",
      "c:\\Users\\jorda\\anaconda3\\envs\\xarray\\lib\\site-packages\\pyogrio\\raw.py:456: RuntimeWarning: Normalized/laundered field name: 'Median after-tax income' to 'Median aft'\n",
      "  ogr_write(\n",
      "c:\\Users\\jorda\\anaconda3\\envs\\xarray\\lib\\site-packages\\pyogrio\\raw.py:456: RuntimeWarning: Normalized/laundered field name: 'Average after-tax income' to 'Average af'\n",
      "  ogr_write(\n",
      "c:\\Users\\jorda\\anaconda3\\envs\\xarray\\lib\\site-packages\\pyogrio\\raw.py:456: RuntimeWarning: Normalized/laundered field name: 'Employment income (%)' to 'Employment'\n",
      "  ogr_write(\n",
      "c:\\Users\\jorda\\anaconda3\\envs\\xarray\\lib\\site-packages\\pyogrio\\raw.py:456: RuntimeWarning: Normalized/laundered field name: 'External migrants 1 year ago' to 'External m'\n",
      "  ogr_write(\n",
      "c:\\Users\\jorda\\anaconda3\\envs\\xarray\\lib\\site-packages\\pyogrio\\raw.py:456: RuntimeWarning: Normalized/laundered field name: 'External migrants 5 years ago' to 'External_1'\n",
      "  ogr_write(\n"
     ]
    }
   ],
   "source": [
    "# Output the fully merged data to a shapefile\n",
    "output_path = \"../datafiles/lfsa000b21a_e/fsa_K_means_20_clusters.shp\"\n",
    "merged_gdf.to_file(output_path)"
   ]
  }
 ],
 "metadata": {
  "kernelspec": {
   "display_name": "pytorch",
   "language": "python",
   "name": "python3"
  },
  "language_info": {
   "codemirror_mode": {
    "name": "ipython",
    "version": 3
   },
   "file_extension": ".py",
   "mimetype": "text/x-python",
   "name": "python",
   "nbconvert_exporter": "python",
   "pygments_lexer": "ipython3",
   "version": "3.9.16"
  }
 },
 "nbformat": 4,
 "nbformat_minor": 2
}
