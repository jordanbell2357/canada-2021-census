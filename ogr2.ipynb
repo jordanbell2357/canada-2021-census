{
 "cells": [
  {
   "cell_type": "code",
   "execution_count": 1,
   "metadata": {},
   "outputs": [],
   "source": [
    "import pandas as pd\n",
    "import geopandas as gpd\n",
    "\n",
    "# Load the shapefile into a GeoDataFrame\n",
    "shapefile_path = \"../datafiles/lfsa000b21a_e/lfsa000b21a_e.shp\"\n",
    "shapefile_gdf = gpd.read_file(shapefile_path)\n",
    "\n",
    "# Load the first CSV (fsa_K_means_20_clusters) into a DataFrame\n",
    "csv_path = \"fsa_principal_indicators_and_agglomerative_clusters.csv\"\n",
    "csv_df = pd.read_csv(csv_path)"
   ]
  },
  {
   "cell_type": "code",
   "execution_count": 2,
   "metadata": {},
   "outputs": [],
   "source": [
    "# Merge the GeoDataFrame with the first CSV based on the CFSAUID and geo_name columns\n",
    "merged_gdf = shapefile_gdf.merge(csv_df, left_on='CFSAUID', right_on='geo_name')"
   ]
  },
  {
   "cell_type": "code",
   "execution_count": 3,
   "metadata": {},
   "outputs": [],
   "source": [
    "merged_gdf.drop(['CFSAUID', 'DGUID', 'PRUID', 'PRNAME', 'LANDAREA_y'], axis=1, inplace=True)"
   ]
  },
  {
   "cell_type": "code",
   "execution_count": 4,
   "metadata": {},
   "outputs": [],
   "source": [
    "merged_gdf = merged_gdf.rename(columns={\n",
    "    'geo_name': 'FSA',\n",
    "    'LANDAREA_x': 'LANDAREA'\n",
    "})"
   ]
  },
  {
   "cell_type": "code",
   "execution_count": 5,
   "metadata": {},
   "outputs": [
    {
     "name": "stderr",
     "output_type": "stream",
     "text": [
      "C:\\Users\\jorda\\AppData\\Local\\Temp\\ipykernel_17924\\3953436191.py:3: UserWarning: Column names longer than 10 characters will be truncated when saved to ESRI Shapefile.\n",
      "  merged_gdf.to_file(output_path)\n",
      "c:\\Users\\jorda\\anaconda3\\envs\\xarray\\lib\\site-packages\\pyogrio\\raw.py:456: RuntimeWarning: Normalized/laundered field name: 'Total population' to 'Total popu'\n",
      "  ogr_write(\n",
      "c:\\Users\\jorda\\anaconda3\\envs\\xarray\\lib\\site-packages\\pyogrio\\raw.py:456: RuntimeWarning: Normalized/laundered field name: 'Average age' to 'Average ag'\n",
      "  ogr_write(\n",
      "c:\\Users\\jorda\\anaconda3\\envs\\xarray\\lib\\site-packages\\pyogrio\\raw.py:456: RuntimeWarning: Normalized/laundered field name: 'Median after-tax income' to 'Median aft'\n",
      "  ogr_write(\n",
      "c:\\Users\\jorda\\anaconda3\\envs\\xarray\\lib\\site-packages\\pyogrio\\raw.py:456: RuntimeWarning: Normalized/laundered field name: 'Average after-tax income' to 'Average af'\n",
      "  ogr_write(\n",
      "c:\\Users\\jorda\\anaconda3\\envs\\xarray\\lib\\site-packages\\pyogrio\\raw.py:456: RuntimeWarning: Normalized/laundered field name: 'Employment income (%)' to 'Employment'\n",
      "  ogr_write(\n",
      "c:\\Users\\jorda\\anaconda3\\envs\\xarray\\lib\\site-packages\\pyogrio\\raw.py:456: RuntimeWarning: Normalized/laundered field name: 'External migrants 1 year ago' to 'External m'\n",
      "  ogr_write(\n",
      "c:\\Users\\jorda\\anaconda3\\envs\\xarray\\lib\\site-packages\\pyogrio\\raw.py:456: RuntimeWarning: Normalized/laundered field name: 'External migrants 5 years ago' to 'External_1'\n",
      "  ogr_write(\n"
     ]
    }
   ],
   "source": [
    "# Output the fully merged data to a shapefile\n",
    "output_path = \"../datafiles/lfsa000b21a_e/fsa_agglomerative_clusters.shp\"\n",
    "merged_gdf.to_file(output_path)"
   ]
  }
 ],
 "metadata": {
  "kernelspec": {
   "display_name": "xarray",
   "language": "python",
   "name": "python3"
  },
  "language_info": {
   "codemirror_mode": {
    "name": "ipython",
    "version": 3
   },
   "file_extension": ".py",
   "mimetype": "text/x-python",
   "name": "python",
   "nbconvert_exporter": "python",
   "pygments_lexer": "ipython3",
   "version": "3.9.16"
  }
 },
 "nbformat": 4,
 "nbformat_minor": 2
}
